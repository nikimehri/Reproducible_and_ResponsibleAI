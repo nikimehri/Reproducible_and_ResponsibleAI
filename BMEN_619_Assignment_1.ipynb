{
  "cells": [
    {
      "cell_type": "code",
      "execution_count": 1,
      "metadata": {
        "id": "3esLhUBBF8mm"
      },
      "outputs": [],
      "source": [
        "%matplotlib inline\n",
        "import pandas as pd\n",
        "import numpy as np\n",
        "import seaborn as sns\n",
        "import matplotlib.pyplot as plt\n",
        "\n",
        "\n",
        "sns.set(style=\"whitegrid\")"
      ]
    },
    {
      "cell_type": "code",
      "execution_count": 2,
      "metadata": {
        "colab": {
          "base_uri": "https://localhost:8080/",
          "height": 111
        },
        "id": "OIMruLp7GhHz",
        "outputId": "3556121c-18f0-4846-bfc2-4c9361500d08"
      },
      "outputs": [
        {
          "name": "stdout",
          "output_type": "stream",
          "text": [
            "Downloading from https://www.kaggle.com/api/v1/datasets/download/fedesoriano/stroke-prediction-dataset?dataset_version_number=1...\n"
          ]
        },
        {
          "name": "stderr",
          "output_type": "stream",
          "text": [
            "100%|██████████| 67.4k/67.4k [00:00<00:00, 5.79MB/s]"
          ]
        },
        {
          "name": "stdout",
          "output_type": "stream",
          "text": [
            "Extracting files...\n",
            "Path to dataset files: /Users/charbel/.cache/kagglehub/datasets/fedesoriano/stroke-prediction-dataset/versions/1\n"
          ]
        },
        {
          "name": "stderr",
          "output_type": "stream",
          "text": [
            "\n"
          ]
        }
      ],
      "source": [
        "#To download datset from Kaggle:\n",
        "import kagglehub\n",
        "from pathlib import Path\n",
        "import pandas as pd\n",
        "\n",
        "path = kagglehub.dataset_download(\"fedesoriano/stroke-prediction-dataset\") \n",
        "print(\"Path to dataset files:\", path)"
      ]
    },
    {
      "cell_type": "code",
      "execution_count": 4,
      "metadata": {
        "colab": {
          "base_uri": "https://localhost:8080/",
          "height": 261
        },
        "id": "J3mgXpbwGswL",
        "outputId": "b099e3d6-94ba-4392-f266-add1b0ad5a6f"
      },
      "outputs": [
        {
          "name": "stdout",
          "output_type": "stream",
          "text": [
            "      id  gender   age  hypertension  heart_disease ever_married  \\\n",
            "0   9046    Male  67.0             0              1          Yes   \n",
            "1  51676  Female  61.0             0              0          Yes   \n",
            "2  31112    Male  80.0             0              1          Yes   \n",
            "3  60182  Female  49.0             0              0          Yes   \n",
            "4   1665  Female  79.0             1              0          Yes   \n",
            "\n",
            "       work_type Residence_type  avg_glucose_level   bmi   smoking_status  \\\n",
            "0        Private          Urban             228.69  36.6  formerly smoked   \n",
            "1  Self-employed          Rural             202.21   NaN     never smoked   \n",
            "2        Private          Rural             105.92  32.5     never smoked   \n",
            "3        Private          Urban             171.23  34.4           smokes   \n",
            "4  Self-employed          Rural             174.12  24.0     never smoked   \n",
            "\n",
            "   stroke  \n",
            "0       1  \n",
            "1       1  \n",
            "2       1  \n",
            "3       1  \n",
            "4       1  \n"
          ]
        }
      ],
      "source": [
        "p= Path(path)\n",
        "df = pd.read_csv(p / \"healthcare-dataset-stroke-data.csv\")\n",
        "print(df.head())"
      ]
    },
    {
      "cell_type": "code",
      "execution_count": 5,
      "metadata": {
        "colab": {
          "base_uri": "https://localhost:8080/",
          "height": 1000
        },
        "id": "3zkerN_KGuFG",
        "outputId": "506fe61c-fbab-4d35-bb29-8b280bf44a06"
      },
      "outputs": [
        {
          "name": "stdout",
          "output_type": "stream",
          "text": [
            "           count  percent\n",
            "stroke                   \n",
            "No stroke   4861    95.13\n",
            "Stroke       249     4.87\n",
            "<class 'pandas.core.frame.DataFrame'>\n",
            "RangeIndex: 5110 entries, 0 to 5109\n",
            "Data columns (total 12 columns):\n",
            " #   Column             Non-Null Count  Dtype  \n",
            "---  ------             --------------  -----  \n",
            " 0   id                 5110 non-null   int64  \n",
            " 1   gender             5110 non-null   object \n",
            " 2   age                5110 non-null   float64\n",
            " 3   hypertension       5110 non-null   int64  \n",
            " 4   heart_disease      5110 non-null   int64  \n",
            " 5   ever_married       5110 non-null   object \n",
            " 6   work_type          5110 non-null   object \n",
            " 7   Residence_type     5110 non-null   object \n",
            " 8   avg_glucose_level  5110 non-null   float64\n",
            " 9   bmi                5110 non-null   float64\n",
            " 10  smoking_status     5110 non-null   object \n",
            " 11  stroke             5110 non-null   int64  \n",
            "dtypes: float64(3), int64(4), object(5)\n",
            "memory usage: 479.2+ KB\n",
            "        gender          age  hypertension  heart_disease ever_married  \\\n",
            "count     5110  5110.000000   5110.000000    5110.000000         5110   \n",
            "unique       3          NaN           NaN            NaN            2   \n",
            "top     Female          NaN           NaN            NaN          Yes   \n",
            "freq      2994          NaN           NaN            NaN         3353   \n",
            "mean       NaN    43.226614      0.097456       0.054012          NaN   \n",
            "std        NaN    22.612647      0.296607       0.226063          NaN   \n",
            "min        NaN     0.080000      0.000000       0.000000          NaN   \n",
            "25%        NaN    25.000000      0.000000       0.000000          NaN   \n",
            "50%        NaN    45.000000      0.000000       0.000000          NaN   \n",
            "75%        NaN    61.000000      0.000000       0.000000          NaN   \n",
            "max        NaN    82.000000      1.000000       1.000000          NaN   \n",
            "\n",
            "       work_type Residence_type  avg_glucose_level          bmi  \\\n",
            "count       5110           5110        5110.000000  5110.000000   \n",
            "unique         5              2                NaN          NaN   \n",
            "top      Private          Urban                NaN          NaN   \n",
            "freq        2925           2596                NaN          NaN   \n",
            "mean         NaN            NaN         106.147677    28.862035   \n",
            "std          NaN            NaN          45.283560     7.699562   \n",
            "min          NaN            NaN          55.120000    10.300000   \n",
            "25%          NaN            NaN          77.245000    23.800000   \n",
            "50%          NaN            NaN          91.885000    28.100000   \n",
            "75%          NaN            NaN         114.090000    32.800000   \n",
            "max          NaN            NaN         271.740000    97.600000   \n",
            "\n",
            "       smoking_status       stroke  \n",
            "count            5110  5110.000000  \n",
            "unique              4          NaN  \n",
            "top      never smoked          NaN  \n",
            "freq             1892          NaN  \n",
            "mean              NaN     0.048728  \n",
            "std               NaN     0.215320  \n",
            "min               NaN     0.000000  \n",
            "25%               NaN     0.000000  \n",
            "50%               NaN     0.000000  \n",
            "75%               NaN     0.000000  \n",
            "max               NaN     1.000000  \n",
            "gender               0\n",
            "age                  0\n",
            "hypertension         0\n",
            "heart_disease        0\n",
            "ever_married         0\n",
            "work_type            0\n",
            "Residence_type       0\n",
            "avg_glucose_level    0\n",
            "bmi                  0\n",
            "smoking_status       0\n",
            "stroke               0\n",
            "dtype: int64\n",
            "Final columns: ['age', 'hypertension', 'heart_disease', 'avg_glucose_level', 'bmi', 'stroke', 'gender_Female', 'gender_Male', 'is_ever_married', 'is_urban', 'work_type_Never_worked', 'work_type_Private', 'work_type_Self-employed', 'work_type_children', 'smoking_status_formerly smoked', 'smoking_status_never smoked', 'smoking_status_smokes']\n",
            "age                               0\n",
            "hypertension                      0\n",
            "heart_disease                     0\n",
            "avg_glucose_level                 0\n",
            "bmi                               0\n",
            "stroke                            0\n",
            "gender_Female                     0\n",
            "gender_Male                       0\n",
            "is_ever_married                   0\n",
            "is_urban                          0\n",
            "work_type_Never_worked            0\n",
            "work_type_Private                 0\n",
            "work_type_Self-employed           0\n",
            "work_type_children                0\n",
            "smoking_status_formerly smoked    0\n",
            "smoking_status_never smoked       0\n",
            "smoking_status_smokes             0\n",
            "dtype: int64\n",
            "        count  percent\n",
            "stroke                \n",
            "0        4860    95.13\n",
            "1         249     4.87\n",
            "avg_glucose_level: min= 55.12, 25%=77.24, median=91.88, 75%=114.09, max=271.74\n",
            "bmi: min= 10.30, 25%=23.80, median=28.10, 75%=32.80, max=97.60\n",
            "Age --> mean=43.23, std=22.61, min=0.08, max=82.00\n",
            "\n",
            "Top 5 strongest correlations (signed):\n",
            "gender_Female  gender_Male       -1.000\n",
            "age            is_ever_married    0.679\n",
            "bmi            is_ever_married    0.335\n",
            "age            bmi                0.324\n",
            "               hypertension       0.276\n",
            "Name: corr, dtype: float64\n",
            "\n",
            "Bottom 5 weakest correlations (signed):\n",
            "bmi                is_urban   -0.000\n",
            "heart_disease      is_urban    0.003\n",
            "avg_glucose_level  is_urban   -0.005\n",
            "is_ever_married    is_urban    0.006\n",
            "gender_Male        is_urban   -0.006\n",
            "Name: corr, dtype: float64\n"
          ]
        },
        {
          "data": {
            "image/png": "[encoded data removed]",
            "text/plain": [
              "<Figure size 400x800 with 2 Axes>"
            ]
          },
          "metadata": {},
          "output_type": "display_data"
        }
      ],
      "source": [
        "\n",
        "\n",
        "\n",
        "\n",
        "#PREPROCESSING STEPS\n",
        "#Create new DataFrame without missing BMI values\n",
        "df [\"bmi\"] = df[\"bmi\"].fillna(df[\"bmi\"].median()) #Imputation of BMI values\n",
        "\n",
        "#Stroke vs No stroke\n",
        "dist = df[\"stroke\"].value_counts().sort_index()\n",
        "pct  = (df[\"stroke\"].value_counts(normalize=True).sort_index() * 100).round(2)\n",
        "summary = pd.DataFrame({\"count\": dist, \"percent\": pct}).rename(index={0:\"No stroke\", 1:\"Stroke\"})\n",
        "print(summary)\n",
        "\n",
        "#Data types and null value info:\n",
        "df.info()\n",
        "\n",
        "#Removing dupliactes\n",
        "df.drop_duplicates(inplace = True)\n",
        "\n",
        "#Drop ID column\n",
        "df.drop(columns=['id'], inplace=True, errors='ignore')\n",
        "\n",
        "\n",
        "#Description of stats\n",
        "print (df.describe (include = \"all\"))\n",
        "\n",
        "#How many missing values exist in each column\n",
        "print (df.isnull().sum())\n",
        "\n",
        "\n",
        "#Change categorical data into numerical values\n",
        "if \"gender\" in df.columns:\n",
        "    df = df[df[\"gender\"].isin([\"Male\", \"Female\"])].copy()\n",
        "df.drop(columns=[\"gender_num\"], inplace=True, errors=\"ignore\")\n",
        "\n",
        "if \"gender\" in df.columns and not any(c.startswith(\"gender_\") for c in df.columns):\n",
        "    df = pd.get_dummies(df, columns=[\"gender\"], drop_first=False)\n",
        "\n",
        "for c in [\"gender_Male\", \"gender_Female\"]:\n",
        "    if c in df.columns:\n",
        "        df[c] = pd.to_numeric(df[c], errors=\"coerce\").astype(float)\n",
        "\n",
        "\n",
        "\n",
        "\n",
        "\n",
        "\n",
        "\n",
        "if \"ever_married\" in df.columns and \"is_ever_married\" not in df.columns:\n",
        "  df['is_ever_married'] = df['ever_married'].map({'No':0,'Yes':1})\n",
        "df.drop(columns=[\"ever_married\"], inplace=True, errors=\"ignore\")\n",
        "if \"Residence_type\" in df.columns and \"is_urban\" not in df.columns:\n",
        "  df['is_urban'] = df['Residence_type'].map({'Rural':0,'Urban':1})\n",
        "df.drop(columns=[\"Residence_type\"], inplace=True, errors=\"ignore\")\n",
        "if \"work_type\" in df.columns and not any(c.startswith(\"work_type_\") for c in df.columns):\n",
        "    df = pd.get_dummies(df, columns=[\"work_type\"], drop_first=True)\n",
        "if \"smoking_status\" in df.columns and not any(c.startswith(\"smoking_status_\") for c in df.columns):\n",
        "    df = pd.get_dummies(df, columns=[\"smoking_status\"], drop_first=True)\n",
        "\n",
        "\n",
        "\n",
        "#To make sure NaN doesn't show up in our binary values:\n",
        "int_like_cols = [\"hypertension\", \"heart_disease\", \"stroke\",\n",
        "                 \"gender_num\", \"is_ever_married\", \"is_urban\"]\n",
        "for col in int_like_cols:\n",
        "    if col in df.columns:\n",
        "        df[col] = pd.to_numeric(df[col], errors=\"coerce\").astype(\"Int64\")\n",
        "\n",
        "#Print overall values\n",
        "print (\"Final columns:\", list (df.columns))\n",
        "\n",
        "#Print missing values\n",
        "print (df.isnull().sum())\n",
        "\n",
        "#Checking for class imbalances\n",
        "if \"stroke\" in df.columns:\n",
        "    vc = df[\"stroke\"].value_counts().sort_index() #---> any class imbalances here will be printed as a percentage\n",
        "    pct = (vc / len(df) * 100). round(2)\n",
        "    print(pd.DataFrame({\"count\": vc, \"percent\": pct}))\n",
        "else:\n",
        "    print(\"column 'stroke' not found.\")\n",
        "\n",
        "#Checking for extremes in the dataset\n",
        "for col in [\"avg_glucose_level\", \"bmi\"]:\n",
        "    if col in df.columns:\n",
        "        d = df[col].describe()\n",
        "        print (f\"{col}: min={d['min']: .2f}, 25%={d['25%']:.2f}, median={d['50%']:.2f}, 75%={d['75%']:.2f}, max={d['max']:.2f}\")\n",
        "    else:\n",
        "        print(f\"{col}: not in dataframe\")\n",
        "\n",
        "\n",
        "#Overview of age and gender demographics\n",
        "if \"age\" in df.columns:\n",
        "    d = df[\"age\"].describe()\n",
        "    print(f\"Age --> mean={d['mean']:.2f}, std={d['std']:.2f}, min={d['min']:.2f}, max={d['max']:.2f}\")\n",
        "\n",
        "if \"gender\" in df.columns: #---> gender here is changed to a % distribution\n",
        "    print(\"\\nGender distribution (%):\")\n",
        "    print((df[\"gender\"].value_counts(normalize=True) * 100).round(2))\n",
        "\n",
        "#Top Correlations\n",
        "num = df.select_dtypes(include=\"number\").copy()\n",
        "corr = num.corr()\n",
        "mask = np.triu(np.ones_like(corr, dtype=bool), k=1)\n",
        "pairs = corr.where(mask).stack().rename(\"corr\")\n",
        "print(\"\\nTop 5 strongest correlations (signed):\")\n",
        "print(pairs.reindex(pairs.abs().sort_values(ascending=False).index).head(5).round(3))\n",
        "\n",
        "print(\"\\nBottom 5 weakest correlations (signed):\")\n",
        "print(pairs.reindex(pairs.abs().sort_values(ascending=True).index).head(5).round(3))\n",
        "\n",
        "\n",
        "# Create a FacetGrid for multiple histograms\n",
        "g = sns.FacetGrid(df, col=\"stroke\", col_wrap=1, height=4, sharex=True, sharey=False)\n",
        "g.map(sns.histplot, \"age\", kde=True, bins=15, color=\"purple\")\n",
        "\n",
        "# Add titles\n",
        "g.set_axis_labels(\"Age\", \"Count\")\n",
        "g.set_titles(\"Age Distribution for Stroke\")\n",
        "\n",
        "# Show plot\n",
        "plt.tight_layout()\n",
        "plt.show()"
      ]
    },
    {
      "cell_type": "code",
      "execution_count": null,
      "metadata": {},
      "outputs": [
        {
          "name": "stdout",
          "output_type": "stream",
          "text": [
            "\n",
            " 10-fold results (mean ± std)\n",
            "Accuracy : 0.735 ± 0.014\n",
            "F1-score : 0.224 ± 0.025\n",
            "PR-AUC   : 0.215 ± 0.047\n",
            "ROC-AUC  : 0.842 ± 0.023\n",
            "SPD (Female - Male) : -0.015 ± 0.055\n"
          ]
        }
      ],
      "source": [
        "from sklearn.model_selection import StratifiedKFold\n",
        "from sklearn.compose import ColumnTransformer\n",
        "from sklearn.preprocessing import OneHotEncoder, StandardScaler\n",
        "from sklearn.impute import SimpleImputer\n",
        "from sklearn.pipeline import Pipeline\n",
        "from sklearn.linear_model import LogisticRegression\n",
        "from sklearn.metrics import accuracy_score, f1_score, average_precision_score, roc_auc_score\n",
        "\n",
        "\n",
        "#Statistical tests to find best machine learning models\n",
        "\n",
        "#Fairness measures:\n",
        "\n",
        "def get_gender_series(X: pd.DataFrame) -> np.ndarray:   #For fairness, reconstructing one hot encoding so evaluate gender and ensure no original labels were lost\n",
        "    if \"gender\" in X.columns:\n",
        "        return X[\"gender\"].astype(str).values\n",
        "    if \"gender_Female\" in X.columns:\n",
        "        return np.where(X[\"gender_Female\"].values > 0.5, \"Female\", \"Male\")\n",
        "    return np.array([\"Unknown\"]* len(X))\n",
        "\n",
        "def statistical_parity_difference(y_pred: np.ndarray, gender: np.ndarray) -> float: #Statistical parity difference for fairness check to find if model flags one group mroe than another\n",
        "    m_f = (gender == \"Female\")\n",
        "    m_m = (gender == \"Male\")\n",
        "    if not m_f.any() or not m_m.any():\n",
        "        return np.nan\n",
        "    return y_pred[m_f].mean() - y_pred[m_m].mean()\n",
        "\n",
        "\n",
        "#Feature engineering targets for the model\n",
        "data = df.copy()\n",
        "\n",
        "if \"gender\" in data.columns: #if any gender columns still exist, convert to male or female\n",
        "    data = data[data[\"gender\"].isin([\"Male\", \"Female\"])]\n",
        "\n",
        "\n",
        "#Model target\n",
        "data[\"stroke\"] = pd.to_numeric(data[\"stroke\"], errors=\"coerce\").fillna(0).astype(int)\n",
        "y = data[\"stroke\"].values\n",
        "X = data.drop(columns=[\"stroke\"])\n",
        "\n",
        "#Data classification as numeric, binary or categorical \n",
        "numeric_features = [c for c in [\"age\", \"avg_glucose_level\", \"bmi\"] if c in X.columns]\n",
        "binary_features  = [c for c in [\"hypertension\", \"heart_disease\"] if c in X.columns]\n",
        "categorical_features = X.select_dtypes(include=[\"object\", \"category\"]).columns.tolist()\n",
        "\n",
        "#Leak based processing to ensure preprocessing statistics is only done on the training data and can be used for validation tests\n",
        "numeric_tfm = Pipeline(steps=[\n",
        "    (\"imputer\", SimpleImputer(strategy=\"median\")),\n",
        "    (\"scaler\", StandardScaler())\n",
        "])\n",
        "\n",
        "categorical_tfm = Pipeline(steps=[\n",
        "    (\"imputer\", SimpleImputer(strategy=\"most_frequent\")),\n",
        "    (\"onehot\", OneHotEncoder(handle_unknown=\"ignore\"))\n",
        "])\n",
        "\n",
        "preprocessor = ColumnTransformer(\n",
        "    transformers=[\n",
        "        (\"num\", numeric_tfm, numeric_features),\n",
        "        (\"cat\", categorical_tfm, categorical_features),\n",
        "        (\"bin\", \"passthrough\", binary_features)\n",
        "    ],\n",
        "    remainder=\"drop\"\n",
        ")\n",
        "\n",
        "#Defining our model\n",
        "model = LogisticRegression(\n",
        "    class_weight=\"balanced\",  # important with ~5% positives\n",
        "    solver=\"liblinear\",\n",
        "    max_iter=200,\n",
        "    random_state=42\n",
        ")\n",
        "\n",
        "clf = Pipeline(steps=[(\"prep\", preprocessor), (\"model\", model)])\n",
        "\n",
        "#10 fold K test and SPD\n",
        "skf = StratifiedKFold(n_splits=10, shuffle=True, random_state=42)\n",
        "\n",
        "f1s, accs, pr_aucs, roc_aucs, spds = [], [], [], [], []\n",
        "\n",
        "for fold, (tr, te) in enumerate(skf.split(X, y), start=1):\n",
        "    X_tr, X_te = X.iloc[tr], X.iloc[te]\n",
        "    y_tr, y_te = y[tr], y[te]\n",
        "\n",
        "    # Save raw gender for fairness \n",
        "    gender_te = get_gender_series(X_te)\n",
        "\n",
        "    # Fit on train, predict on test\n",
        "    clf.fit(X_tr, y_tr)\n",
        "    y_scores = clf.predict_proba(X_te)[:, 1]\n",
        "    y_pred = (y_scores >= 0.5).astype(int)  # simple default threshold\n",
        "\n",
        "    # Accuracy metrics\n",
        "    accs.append(accuracy_score(y_te, y_pred))\n",
        "    f1s.append(f1_score(y_te, y_pred, zero_division=0))\n",
        "    pr_aucs.append(average_precision_score(y_te, y_scores))  # PR-AUC\n",
        "    roc_aucs.append(roc_auc_score(y_te, y_scores))           # optional\n",
        "\n",
        "    # Fairness statistical parity difference \n",
        "    spds.append(statistical_parity_difference(y_pred, gender_te))\n",
        "\n",
        "\n",
        "\n",
        "#Print Output\n",
        "def mean_std(a): \n",
        "    return f\"{np.mean(a):.3f} ± {np.std(a):.3f}\"\n",
        "\n",
        "print(\"\\n 10-fold results (mean ± std)\")\n",
        "print(f\"Accuracy : {mean_std(accs)}\")\n",
        "print(f\"F1-score : {mean_std(f1s)}\")\n",
        "print(f\"PR-AUC   : {mean_std(pr_aucs)}\")\n",
        "print(f\"ROC-AUC  : {mean_std(roc_aucs)}\")\n",
        "print(f\"SPD (Female - Male) : {mean_std(spds)}\")\n",
        "\n"
      ]
    },
    {
      "cell_type": "code",
      "execution_count": null,
      "metadata": {
        "colab": {
          "base_uri": "https://localhost:8080/",
          "height": 561
        },
        "id": "y_sQf5cmeMmG",
        "outputId": "2eda5f22-caf5-44c5-9f37-72e7b61f6ae0"
      },
      "outputs": [],
      "source": []
    },
    {
      "cell_type": "code",
      "execution_count": null,
      "metadata": {
        "colab": {
          "base_uri": "https://localhost:8080/",
          "height": 507
        },
        "id": "V3oRb2RHJEYt",
        "outputId": "b95888b1-3768-4607-c77c-24766b40592e"
      },
      "outputs": [],
      "source": []
    },
    {
      "cell_type": "code",
      "execution_count": null,
      "metadata": {
        "colab": {
          "base_uri": "https://localhost:8080/",
          "height": 481
        },
        "id": "nbjYYiiXKP2K",
        "outputId": "98a8b66c-f329-4fd7-a1e9-5ee9e09b06a6"
      },
      "outputs": [],
      "source": []
    },
    {
      "cell_type": "code",
      "execution_count": null,
      "metadata": {
        "colab": {
          "base_uri": "https://localhost:8080/"
        },
        "id": "eMqM01EFJPuv",
        "outputId": "161fb95a-543b-40d6-cda3-5c686283e981"
      },
      "outputs": [],
      "source": []
    },
    {
      "cell_type": "code",
      "execution_count": null,
      "metadata": {
        "id": "ecvGtZOXT3oo"
      },
      "outputs": [],
      "source": []
    },
    {
      "cell_type": "code",
      "execution_count": null,
      "metadata": {
        "colab": {
          "base_uri": "https://localhost:8080/",
          "height": 857
        },
        "id": "jiqxwDXuUGza",
        "outputId": "f004ba61-4d27-47f7-cadd-695d6e1d6f73"
      },
      "outputs": [],
      "source": []
    },
    {
      "cell_type": "code",
      "execution_count": null,
      "metadata": {
        "colab": {
          "base_uri": "https://localhost:8080/",
          "height": 401
        },
        "id": "3gnonW83WYVu",
        "outputId": "c3ed9599-72b1-418b-88f8-3d08534c9e23"
      },
      "outputs": [],
      "source": [
        "\n"
      ]
    }
  ],
  "metadata": {
    "colab": {
      "provenance": []
    },
    "kernelspec": {
      "display_name": "base",
      "language": "python",
      "name": "python3"
    },
    "language_info": {
      "codemirror_mode": {
        "name": "ipython",
        "version": 3
      },
      "file_extension": ".py",
      "mimetype": "text/x-python",
      "name": "python",
      "nbconvert_exporter": "python",
      "pygments_lexer": "ipython3",
      "version": "3.12.7"
    }
  },
  "nbformat": 4,
  "nbformat_minor": 0
}
